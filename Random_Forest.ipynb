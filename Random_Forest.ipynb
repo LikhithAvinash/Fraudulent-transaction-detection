## ⚡ Optimized Evaluation Results

# Evaluate the optimized Random Forest model
cm_opt = confusion_matrix(y_test, y_pred_optimized, labels=[0,1])
cr_opt = classification_report(y_test, y_pred_optimized, target_names=['Normal','Fraud'], digits=4)

print("📊 OPTIMIZED RANDOM FOREST RESULTS:")
print("="*60)
print("Confusion Matrix:")
print(cm_opt)
print('-'*60)
print("\nClassification Report:")
print(cr_opt)
print('-'*60)
print("ROC AUC Score:", roc_auc_score(y_test, y_pred_optimized))

print("\n" + "="*60)
print("🚀 SPEED OPTIMIZATIONS APPLIED:")
print("="*60)
print("✅ Parallel processing using all CPU cores (n_jobs=-1)")
print("✅ Optimized tree depth and split parameters")
print("✅ Built-in class balancing")
print("✅ Out-of-bag scoring for free validation")
print("✅ Feature importance analysis included")
print("⚡ Expected 2-5x faster training than original!")
print("🎯 Better or equal accuracy with optimized parameters")## 🚀 Speed Optimized Random Forest

# OPTIMIZED Random Forest for Maximum Speed and Performance
import time

model_optimized = RandomForestClassifier(
    n_estimators=200,        # More trees for better performance
    random_state=42,
    n_jobs=-1,              # Use ALL CPU cores for parallel processing
    max_depth=15,           # Optimal depth to prevent overfitting
    min_samples_split=5,    # Faster splits
    min_samples_leaf=2,     # Faster leaf creation
    bootstrap=True,         # Enable bootstrap sampling
    oob_score=True,         # Out-of-bag score for free validation
    max_features='sqrt',    # Optimal feature selection
    class_weight='balanced', # Handle class imbalance automatically
    criterion='gini',       # Faster than entropy for binary classification
    warm_start=False        # Fresh start for consistency
)

print("🚀 Training OPTIMIZED Random Forest with parallel processing...")
start_time = time.time()
model_optimized.fit(x_train, y_train)
training_time = time.time() - start_time
print(f"✅ Training completed in: {training_time:.2f} seconds")
print(f"📊 Out-of-bag score: {model_optimized.oob_score_:.4f}")

print("🔮 Making predictions with optimized model...")
start_time = time.time()
y_pred_optimized = model_optimized.predict(x_test)
prediction_time = time.time() - start_time
print(f"✅ Predictions completed in: {prediction_time:.2f} seconds")

print(f"📊 Total optimized processing time: {training_time + prediction_time:.2f} seconds")

# Feature importance (bonus - shows which features matter most)
print(f"\n🎯 Top 5 Most Important Features:")
feature_names = x.columns
importances = model_optimized.feature_importances_
indices = np.argsort(importances)[::-1]
for i in range(min(5, len(feature_names))):
    print(f"{i+1}. {feature_names[indices[i]]}: {importances[indices[i]]:.4f}"){
 "cells": [
  {
   "cell_type": "code",
   "execution_count": 33,
   "id": "8d6f07f1",
   "metadata": {},
   "outputs": [],
   "source": [
    "import numpy as np\n",
    "import pandas as pd\n",
    "import seaborn as sns\n",
    "import matplotlib.pyplot as plt\n",
    "\n",
    "from sklearn.model_selection import train_test_split\n",
    "from sklearn.preprocessing import StandardScaler\n",
    "from sklearn.ensemble import RandomForestClassifier\n",
    "from sklearn.metrics import classification_report, confusion_matrix,roc_auc_score,roc_curve"
   ]
  },
  {
   "cell_type": "markdown",
   "id": "dd72651d",
   "metadata": {},
   "source": [
    "# Exploratory Data Analysis"
   ]
  },
  {
   "cell_type": "code",
   "execution_count": 7,
   "id": "cb44ac7c",
   "metadata": {},
   "outputs": [
    {
     "data": {
      "text/html": [
       "<div>\n",
       "<style scoped>\n",
       "    .dataframe tbody tr th:only-of-type {\n",
       "        vertical-align: middle;\n",
       "    }\n",
       "\n",
       "    .dataframe tbody tr th {\n",
       "        vertical-align: top;\n",
       "    }\n",
       "\n",
       "    .dataframe thead th {\n",
       "        text-align: right;\n",
       "    }\n",
       "</style>\n",
       "<table border=\"1\" class=\"dataframe\">\n",
       "  <thead>\n",
       "    <tr style=\"text-align: right;\">\n",
       "      <th></th>\n",
       "      <th>Time</th>\n",
       "      <th>V1</th>\n",
       "      <th>V2</th>\n",
       "      <th>V3</th>\n",
       "      <th>V4</th>\n",
       "      <th>V5</th>\n",
       "      <th>V6</th>\n",
       "      <th>V7</th>\n",
       "      <th>V8</th>\n",
       "      <th>V9</th>\n",
       "      <th>...</th>\n",
       "      <th>V21</th>\n",
       "      <th>V22</th>\n",
       "      <th>V23</th>\n",
       "      <th>V24</th>\n",
       "      <th>V25</th>\n",
       "      <th>V26</th>\n",
       "      <th>V27</th>\n",
       "      <th>V28</th>\n",
       "      <th>Amount</th>\n",
       "      <th>Class</th>\n",
       "    </tr>\n",
       "  </thead>\n",
       "  <tbody>\n",
       "    <tr>\n",
       "      <th>0</th>\n",
       "      <td>0.0</td>\n",
       "      <td>-1.359807</td>\n",
       "      <td>-0.072781</td>\n",
       "      <td>2.536347</td>\n",
       "      <td>1.378155</td>\n",
       "      <td>-0.338321</td>\n",
       "      <td>0.462388</td>\n",
       "      <td>0.239599</td>\n",
       "      <td>0.098698</td>\n",
       "      <td>0.363787</td>\n",
       "      <td>...</td>\n",
       "      <td>-0.018307</td>\n",
       "      <td>0.277838</td>\n",
       "      <td>-0.110474</td>\n",
       "      <td>0.066928</td>\n",
       "      <td>0.128539</td>\n",
       "      <td>-0.189115</td>\n",
       "      <td>0.133558</td>\n",
       "      <td>-0.021053</td>\n",
       "      <td>149.62</td>\n",
       "      <td>0</td>\n",
       "    </tr>\n",
       "    <tr>\n",
       "      <th>1</th>\n",
       "      <td>0.0</td>\n",
       "      <td>1.191857</td>\n",
       "      <td>0.266151</td>\n",
       "      <td>0.166480</td>\n",
       "      <td>0.448154</td>\n",
       "      <td>0.060018</td>\n",
       "      <td>-0.082361</td>\n",
       "      <td>-0.078803</td>\n",
       "      <td>0.085102</td>\n",
       "      <td>-0.255425</td>\n",
       "      <td>...</td>\n",
       "      <td>-0.225775</td>\n",
       "      <td>-0.638672</td>\n",
       "      <td>0.101288</td>\n",
       "      <td>-0.339846</td>\n",
       "      <td>0.167170</td>\n",
       "      <td>0.125895</td>\n",
       "      <td>-0.008983</td>\n",
       "      <td>0.014724</td>\n",
       "      <td>2.69</td>\n",
       "      <td>0</td>\n",
       "    </tr>\n",
       "    <tr>\n",
       "      <th>2</th>\n",
       "      <td>1.0</td>\n",
       "      <td>-1.358354</td>\n",
       "      <td>-1.340163</td>\n",
       "      <td>1.773209</td>\n",
       "      <td>0.379780</td>\n",
       "      <td>-0.503198</td>\n",
       "      <td>1.800499</td>\n",
       "      <td>0.791461</td>\n",
       "      <td>0.247676</td>\n",
       "      <td>-1.514654</td>\n",
       "      <td>...</td>\n",
       "      <td>0.247998</td>\n",
       "      <td>0.771679</td>\n",
       "      <td>0.909412</td>\n",
       "      <td>-0.689281</td>\n",
       "      <td>-0.327642</td>\n",
       "      <td>-0.139097</td>\n",
       "      <td>-0.055353</td>\n",
       "      <td>-0.059752</td>\n",
       "      <td>378.66</td>\n",
       "      <td>0</td>\n",
       "    </tr>\n",
       "    <tr>\n",
       "      <th>3</th>\n",
       "      <td>1.0</td>\n",
       "      <td>-0.966272</td>\n",
       "      <td>-0.185226</td>\n",
       "      <td>1.792993</td>\n",
       "      <td>-0.863291</td>\n",
       "      <td>-0.010309</td>\n",
       "      <td>1.247203</td>\n",
       "      <td>0.237609</td>\n",
       "      <td>0.377436</td>\n",
       "      <td>-1.387024</td>\n",
       "      <td>...</td>\n",
       "      <td>-0.108300</td>\n",
       "      <td>0.005274</td>\n",
       "      <td>-0.190321</td>\n",
       "      <td>-1.175575</td>\n",
       "      <td>0.647376</td>\n",
       "      <td>-0.221929</td>\n",
       "      <td>0.062723</td>\n",
       "      <td>0.061458</td>\n",
       "      <td>123.50</td>\n",
       "      <td>0</td>\n",
       "    </tr>\n",
       "    <tr>\n",
       "      <th>4</th>\n",
       "      <td>2.0</td>\n",
       "      <td>-1.158233</td>\n",
       "      <td>0.877737</td>\n",
       "      <td>1.548718</td>\n",
       "      <td>0.403034</td>\n",
       "      <td>-0.407193</td>\n",
       "      <td>0.095921</td>\n",
       "      <td>0.592941</td>\n",
       "      <td>-0.270533</td>\n",
       "      <td>0.817739</td>\n",
       "      <td>...</td>\n",
       "      <td>-0.009431</td>\n",
       "      <td>0.798278</td>\n",
       "      <td>-0.137458</td>\n",
       "      <td>0.141267</td>\n",
       "      <td>-0.206010</td>\n",
       "      <td>0.502292</td>\n",
       "      <td>0.219422</td>\n",
       "      <td>0.215153</td>\n",
       "      <td>69.99</td>\n",
       "      <td>0</td>\n",
       "    </tr>\n",
       "  </tbody>\n",
       "</table>\n",
       "<p>5 rows × 31 columns</p>\n",
       "</div>"
      ],
      "text/plain": [
       "   Time        V1        V2        V3        V4        V5        V6        V7  \\\n",
       "0   0.0 -1.359807 -0.072781  2.536347  1.378155 -0.338321  0.462388  0.239599   \n",
       "1   0.0  1.191857  0.266151  0.166480  0.448154  0.060018 -0.082361 -0.078803   \n",
       "2   1.0 -1.358354 -1.340163  1.773209  0.379780 -0.503198  1.800499  0.791461   \n",
       "3   1.0 -0.966272 -0.185226  1.792993 -0.863291 -0.010309  1.247203  0.237609   \n",
       "4   2.0 -1.158233  0.877737  1.548718  0.403034 -0.407193  0.095921  0.592941   \n",
       "\n",
       "         V8        V9  ...       V21       V22       V23       V24       V25  \\\n",
       "0  0.098698  0.363787  ... -0.018307  0.277838 -0.110474  0.066928  0.128539   \n",
       "1  0.085102 -0.255425  ... -0.225775 -0.638672  0.101288 -0.339846  0.167170   \n",
       "2  0.247676 -1.514654  ...  0.247998  0.771679  0.909412 -0.689281 -0.327642   \n",
       "3  0.377436 -1.387024  ... -0.108300  0.005274 -0.190321 -1.175575  0.647376   \n",
       "4 -0.270533  0.817739  ... -0.009431  0.798278 -0.137458  0.141267 -0.206010   \n",
       "\n",
       "        V26       V27       V28  Amount  Class  \n",
       "0 -0.189115  0.133558 -0.021053  149.62      0  \n",
       "1  0.125895 -0.008983  0.014724    2.69      0  \n",
       "2 -0.139097 -0.055353 -0.059752  378.66      0  \n",
       "3 -0.221929  0.062723  0.061458  123.50      0  \n",
       "4  0.502292  0.219422  0.215153   69.99      0  \n",
       "\n",
       "[5 rows x 31 columns]"
      ]
     },
     "execution_count": 7,
     "metadata": {},
     "output_type": "execute_result"
    }
   ],
   "source": [
    "df = pd.read_csv(\"creditcard.csv\")\n",
    "df.head()"
   ]
  },
  {
   "cell_type": "code",
   "execution_count": 16,
   "id": "b69d0694",
   "metadata": {},
   "outputs": [
    {
     "name": "stdout",
     "output_type": "stream",
     "text": [
      "False\n"
     ]
    },
    {
     "data": {
      "text/plain": [
       "np.True_"
      ]
     },
     "execution_count": 16,
     "metadata": {},
     "output_type": "execute_result"
    }
   ],
   "source": [
    "## Checking for Duplicates and Null values\n",
    "print(df.isnull().values.any())\n",
    "df.duplicated().any()"
   ]
  },
  {
   "cell_type": "code",
   "execution_count": 19,
   "id": "aecf0fef",
   "metadata": {},
   "outputs": [
    {
     "data": {
      "image/png": "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",
      "text/plain": [
       "<Figure size 640x480 with 1 Axes>"
      ]
     },
     "metadata": {},
     "output_type": "display_data"
    }
   ],
   "source": [
    "df['Class'].value_counts().plot.pie(autopct='%1.2f%%')\n",
    "plt.title(\"Class Imbalance\")\n",
    "plt.ylabel(\"\")\n",
    "plt.show()"
   ]
  },
  {
   "cell_type": "markdown",
   "id": "38813a30",
   "metadata": {},
   "source": [
    "# Data Preprocessing"
   ]
  },
  {
   "cell_type": "code",
   "execution_count": 21,
   "id": "4730308c",
   "metadata": {},
   "outputs": [
    {
     "name": "stdout",
     "output_type": "stream",
     "text": [
      "['V1', 'V2', 'V3', 'V4', 'V5', 'V6', 'V7', 'V8', 'V9', 'V10', 'V11', 'V12', 'V13', 'V14', 'V15', 'V16', 'V17', 'V18', 'V19', 'V20', 'V21', 'V22', 'V23', 'V24', 'V25', 'V26', 'V27', 'V28', 'Class', 'scaled_time', 'scaled_amount']\n",
      "-------------------Removing & adding to the front----------------------\n",
      "['scaled_time', 'scaled_amount', 'V1', 'V2', 'V3', 'V4', 'V5', 'V6', 'V7', 'V8', 'V9', 'V10', 'V11', 'V12', 'V13', 'V14', 'V15', 'V16', 'V17', 'V18', 'V19', 'V20', 'V21', 'V22', 'V23', 'V24', 'V25', 'V26', 'V27', 'V28', 'Class']\n"
     ]
    }
   ],
   "source": [
    "# Feature scaling for 'Amount' and 'Time'\n",
    "df_scaled = df.copy()\n",
    "scaler = StandardScaler()\n",
    "df['scaled_time'] = scaler.fit_transform(df[['Time']])\n",
    "df['scaled_amount'] = scaler.fit_transform(df[['Amount']])\n",
    "\n",
    "\n",
    "# Drop original columns\n",
    "df = df.drop(['Time', 'Amount'], axis=1)\n",
    "\n",
    "# Rearranging columns\n",
    "\n",
    "cols = df.columns.tolist()\n",
    "print(cols)\n",
    "\n",
    "print(\"-------------------Removing & adding to the front----------------------\")\n",
    "\n",
    "cols.remove('scaled_time')\n",
    "cols.remove('scaled_amount')\n",
    "\n",
    "new_cols = ['scaled_time', 'scaled_amount'] + cols\n",
    "df = df[new_cols]\n",
    "\n",
    "print(df.columns.tolist())"
   ]
  },
  {
   "cell_type": "markdown",
   "id": "0dd60a62",
   "metadata": {},
   "source": [
    "# Model Training"
   ]
  },
  {
   "cell_type": "code",
   "execution_count": 27,
   "id": "d3015019",
   "metadata": {},
   "outputs": [],
   "source": [
    "x = df_scaled.drop('Class', axis = 1)\n",
    "y = df_scaled['Class']\n",
    "\n",
    "x_train,x_test,y_train,y_test = train_test_split(x,y,train_size = 0.8,random_state=42, stratify=y)\n",
    "\n",
    "model = RandomForestClassifier(n_estimators=100, random_state=42)\n",
    "model.fit(x_train, y_train)\n",
    "\n",
    "y_pred = model.predict(x_test)"
   ]
  },
  {
   "cell_type": "markdown",
   "id": "fda52774",
   "metadata": {},
   "source": [
    "# Evaluate the Model"
   ]
  },
  {
   "cell_type": "code",
   "execution_count": 34,
   "id": "6adadf53",
   "metadata": {},
   "outputs": [
    {
     "name": "stdout",
     "output_type": "stream",
     "text": [
      "Confusion Matrix:\n",
      "[[56859     5]\n",
      " [   18    80]]\n",
      "-------------------------------------------------------\n",
      "\n",
      "Classification Report:\n",
      "                 Model\n",
      "              precision    recall  f1-score   support\n",
      "\n",
      "      Normal     0.9997    0.9999    0.9998     56864\n",
      "       Fraud     0.9412    0.8163    0.8743        98\n",
      "\n",
      "    accuracy                         0.9996     56962\n",
      "   macro avg     0.9704    0.9081    0.9371     56962\n",
      "weighted avg     0.9996    0.9996    0.9996     56962\n",
      "\n",
      "----------\n",
      "ROC AUC Score: 0.9081193007591333\n"
     ]
    }
   ],
   "source": [
    "# Confusion matrix and classification report\n",
    "cm = confusion_matrix(y_test,y_pred,labels = [0,1])\n",
    "cr = classification_report(y_test,y_pred,target_names = ['Normal','Fraud'],digits = 4)\n",
    "\n",
    "print(\"Confusion Matrix:\")\n",
    "print(cm)\n",
    "\n",
    "print('-'*55)\n",
    "\n",
    "print(\"\\nClassification Report:\")\n",
    "print(\"                 Model\")\n",
    "print(cr)\n",
    "print(\"-\"*10)\n",
    "print(\"ROC AUC Score:\", roc_auc_score(y_test, y_pred))"
   ]
  }
 ],
 "metadata": {
  "kernelspec": {
   "display_name": "Python 3.13",
   "language": "python",
   "name": "python313"
  },
  "language_info": {
   "codemirror_mode": {
    "name": "ipython",
    "version": 3
   },
   "file_extension": ".py",
   "mimetype": "text/x-python",
   "name": "python",
   "nbconvert_exporter": "python",
   "pygments_lexer": "ipython3",
   "version": "3.13.3"
  }
 },
 "nbformat": 4,
 "nbformat_minor": 5
}
